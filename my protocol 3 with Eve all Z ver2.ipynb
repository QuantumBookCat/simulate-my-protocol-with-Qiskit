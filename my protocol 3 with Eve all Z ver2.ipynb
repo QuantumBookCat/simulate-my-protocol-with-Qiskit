{
 "cells": [
  {
   "cell_type": "code",
   "execution_count": 1,
   "metadata": {},
   "outputs": [],
   "source": [
    "from qiskit import QuantumCircuit,execute,Aer\n",
    "import numpy as np\n",
    "\n",
    "import random\n",
    "import math"
   ]
  },
  {
   "cell_type": "code",
   "execution_count": 2,
   "metadata": {},
   "outputs": [
    {
     "name": "stdout",
     "output_type": "stream",
     "text": [
      "K1 : [0, 0, 1, 1, 0, 1, 1, 1, 1, 1, 0, 0, 1, 0, 1, 1, 1, 0, 0, 0, 0, 1, 1, 0, 1, 0, 1, 1, 0, 1, 1, 0, 0, 0, 1, 1, 1, 0, 1, 0, 1, 0, 0, 0, 1, 1, 1, 1, 0, 1, 1, 1, 1, 0, 0, 0, 0, 0, 1, 1, 1, 1, 1, 0, 0, 1, 0, 0, 1, 0, 0, 0, 0, 1, 1, 0, 1, 1, 0, 0]\n",
      "K2 : [1, 0, 1, 1, 0, 0, 0, 1, 1, 0, 0, 1, 1, 1, 0, 1, 0, 0, 0, 1, 1, 0, 1, 1, 0, 1, 0, 1, 1, 0]\n"
     ]
    }
   ],
   "source": [
    "# Step0: Alice and Bob preshare two keys K1, K2, and Hash function based on K2\n",
    "\n",
    "def random_01str(list1,num):\n",
    "    for i in range(num):\n",
    "        list1.append(random.randint(0,1))\n",
    "        \n",
    "n=50\n",
    "m=30\n",
    "        \n",
    "K1=[]\n",
    "random_01str(K1,n+m)\n",
    "print(\"K1 :\",K1)\n",
    "\n",
    "K2=[]\n",
    "random_01str(K2,m)\n",
    "print(\"K2 :\",K2)\n",
    "\n",
    "\n",
    "# int(math.pow(2,m))\n",
    "\n",
    "# binary to decimal : int(\"110\",2) = 6\n",
    "# decimal to binary : np.binary_repr(6,m) = 110\n",
    "\n",
    "# list element to string : list1=[0,1,0,1,1]  str1=f'{list1[0]}'\n",
    "\n",
    "# python function : hash()\n",
    "\n",
    "def Hash(listSK,listK2,listHashSK):\n",
    "    SK_part1=\"\"\n",
    "    SK_part2=\"\"\n",
    "    for i in range(n):\n",
    "        if i <= n//2:\n",
    "            SK_part1+=f'{listSK[i]}'\n",
    "        else:\n",
    "            SK_part2+=f'{listSK[i]}'\n",
    "            \n",
    "    K2_part1=\"\"\n",
    "    K2_part2=\"\"\n",
    "    for i in range(m):\n",
    "        if i <= m//2:\n",
    "            K2_part1+=f'{listK2[i]}'\n",
    "        else:\n",
    "            K2_part2+=f'{listK2[i]}'\n",
    "            \n",
    "    hash_value=((int(SK_part1,2))*(int(K2_part1,2))*99 + (int(SK_part2,2))*(int(K2_part2,2))*9)%(int(math.pow(2,m)))\n",
    "    str_hash_value = np.binary_repr(hash_value,m)\n",
    "    \n",
    "    for i in range(len(str_hash_value)):\n",
    "        listHashSK.append(int(str_hash_value[i]))\n",
    "    "
   ]
  },
  {
   "cell_type": "code",
   "execution_count": 3,
   "metadata": {},
   "outputs": [
    {
     "name": "stdout",
     "output_type": "stream",
     "text": [
      "SK : [0, 1, 1, 1, 1, 1, 0, 0, 1, 1, 0, 0, 0, 0, 1, 1, 1, 1, 0, 1, 0, 0, 0, 1, 0, 0, 0, 0, 0, 1, 1, 0, 0, 1, 1, 0, 1, 0, 0, 0, 1, 0, 1, 0, 0, 0, 0, 0, 1, 1]\n",
      "HashSK : [0, 0, 0, 0, 1, 1, 0, 1, 1, 0, 0, 0, 1, 1, 1, 0, 1, 0, 1, 1, 0, 1, 0, 0, 1, 0, 1, 1, 1, 0]\n",
      "SA : [0, 1, 1, 1, 1, 1, 0, 0, 1, 1, 0, 0, 0, 0, 1, 1, 1, 1, 0, 1, 0, 0, 0, 1, 0, 0, 0, 0, 0, 1, 1, 0, 0, 1, 1, 0, 1, 0, 0, 0, 1, 0, 1, 0, 0, 0, 0, 0, 1, 1, 0, 0, 0, 0, 1, 1, 0, 1, 1, 0, 0, 0, 1, 1, 1, 0, 1, 0, 1, 1, 0, 1, 0, 0, 1, 0, 1, 1, 1, 0]\n"
     ]
    }
   ],
   "source": [
    "# Step1: Alice prepares SK||Hash(SK) --> SA\n",
    "\n",
    "SK=[]\n",
    "random_01str(SK,n)\n",
    "print(\"SK :\",SK)\n",
    "\n",
    "HashSK=[]\n",
    "Hash(SK,K2,HashSK)\n",
    "print(\"HashSK :\",HashSK)\n",
    "\n",
    "SA=[]\n",
    "SA.extend(SK)\n",
    "SA.extend(HashSK)\n",
    "print(\"SA :\",SA)"
   ]
  },
  {
   "cell_type": "code",
   "execution_count": 4,
   "metadata": {},
   "outputs": [
    {
     "name": "stdout",
     "output_type": "stream",
     "text": [
      "SD       : [1, 0, 1, 0, 1, 0, 0, 1, 0, 0, 1, 0, 0, 0, 0, 1, 0, 1, 1, 1, 1, 0, 0, 0, 1, 0, 0, 0, 0, 0, 1, 1, 1, 0, 1, 1, 1, 0, 1, 1, 0, 1, 0, 0, 0, 1, 0, 0, 1, 1, 1, 1, 1, 1, 1, 1, 0, 1, 1, 1, 1, 0, 1, 0, 1, 0, 0, 0, 0, 1, 1, 1, 0, 1, 1, 0, 0, 0, 1, 0]\n",
      "SD_basis : [0, 1, 1, 0, 0, 0, 0, 0, 0, 0, 0, 1, 1, 1, 1, 1, 0, 0, 0, 1, 0, 0, 1, 0, 1, 1, 1, 1, 0, 0, 0, 0, 1, 0, 0, 1, 1, 0, 1, 1, 1, 0, 1, 1, 1, 1, 0, 1, 0, 0, 0, 1, 0, 1, 1, 1, 1, 0, 1, 1, 1, 1, 0, 1, 1, 1, 1, 0, 0, 1, 1, 0, 1, 1, 0, 1, 1, 1, 1, 0]\n",
      "SD SA SD SA SA SD SA SD SD SA SA SD SA SD SA SD SA SD SA SD SD SA SD SA SA SD SD SA SA SD SA SD SA SD SD SA SD SA SD SA SD SA SA SD SA SD SD SA SA SD SD SA SA SD SA SD SD SA SA SD SA SD SD SA SD SA SD SA SA SD SA SD SA SD SD SA SA SD SD SA SA SD SD SA SD SA SD SA SA SD SA SD SA SD SA SD SD SA SA SD SA SD SA SD SA SD SD SA SD SA SD SA SD SA SD SA SA SD SA SD SA SD SA SD SA SD SD SA SD SA SA SD SD SA SD SA SA SD SD SA SD SA SD SA SD SA SA SD SA SD SD SA SA SD SA SD SD SA SD SA "
     ]
    },
    {
     "data": {
      "image/png": "[encoded data removed]",
      "text/plain": [
       "<Figure size 233.576x144.48 with 1 Axes>"
      ]
     },
     "execution_count": 4,
     "metadata": {},
     "output_type": "execute_result"
    }
   ],
   "source": [
    "# Step2: Alice inserts random SD into SA based on K1\n",
    "#        SA: |0> (0) or |1> (1)     SD: |0> |+> (0) or |1> |-> (1)   ==> QA\n",
    "\n",
    "SD=[]\n",
    "random_01str(SD,n+m)\n",
    "print(\"SD       :\",SD)\n",
    "\n",
    "SD_basis=[]\n",
    "random_01str(SD_basis,n+m)\n",
    "print(\"SD_basis :\",SD_basis)\n",
    "\n",
    "circ0 = QuantumCircuit(1,1)  # |0>\n",
    "circ0.barrier(0)\n",
    "\n",
    "circ1 = QuantumCircuit(1,1)  # |1>\n",
    "circ1.x(0)\n",
    "circ1.barrier(0)\n",
    "\n",
    "circ2 = QuantumCircuit(1,1)  # |+>\n",
    "circ2.h(0)\n",
    "circ2.barrier(0)\n",
    "\n",
    "circ3 = QuantumCircuit(1,1)  # |->\n",
    "circ3.x(0)\n",
    "circ3.h(0)\n",
    "circ3.barrier(0)\n",
    "\n",
    "#circ3.draw(output='mpl')\n",
    "qubit_circ = [circ0,circ1,circ2,circ3]\n",
    "\n",
    "\n",
    "def generate_circuits_01ZX(list_element01,list_elementZX,list_circuits):\n",
    "    if not list_element01 and not list_elementZX :\n",
    "        list_circuits.append(circ0)\n",
    "    elif list_element01 and not list_elementZX :\n",
    "        list_circuits.append(circ1)\n",
    "    elif not list_element01 and list_elementZX :\n",
    "        list_circuits.append(circ2)\n",
    "    else :\n",
    "        list_circuits.append(circ3)\n",
    "    \n",
    "def generate_circuits_01(list_element01,list_circuits):\n",
    "    if not list_element01 :\n",
    "        list_circuits.append(circ0)\n",
    "    else :\n",
    "        list_circuits.append(circ1)\n",
    "\n",
    "\n",
    "Alice_step2_circuits = [] # QA\n",
    "\n",
    "for i in range(n+m):\n",
    "    if not K1[i]: # SD SA\n",
    "        print(\"SD SA \",end=\"\")\n",
    "        generate_circuits_01ZX(SD[i],SD_basis[i],Alice_step2_circuits)\n",
    "        generate_circuits_01(SA[i],Alice_step2_circuits)\n",
    "    else: # SA SD\n",
    "        print(\"SA SD \",end=\"\")\n",
    "        generate_circuits_01(SA[i],Alice_step2_circuits)\n",
    "        generate_circuits_01ZX(SD[i],SD_basis[i],Alice_step2_circuits)\n",
    "    \n",
    "#print(\"\\n\",len(Alice_step2_circuits))\n",
    "Alice_step2_circuits[0].draw(output='mpl')"
   ]
  },
  {
   "cell_type": "code",
   "execution_count": 5,
   "metadata": {},
   "outputs": [
    {
     "name": "stdout",
     "output_type": "stream",
     "text": [
      "Eve_measurement_results :  [1, 0, 1, 1, 1, 1, 1, 0, 1, 1, 1, 0, 0, 0, 0, 1, 1, 0, 1, 0, 1, 0, 0, 0, 0, 1, 0, 0, 1, 0, 1, 1, 1, 0, 1, 1, 1, 0, 1, 1, 1, 0, 0, 0, 0, 1, 0, 1, 0, 0, 1, 0, 0, 1, 0, 1, 0, 0, 1, 0, 1, 1, 1, 0, 0, 0, 0, 1, 1, 1, 0, 1, 1, 0, 0, 0, 0, 1, 0, 0, 1, 1, 1, 0, 0, 1, 0, 0, 0, 0, 0, 1, 0, 0, 0, 1, 1, 1, 1, 1, 0, 1, 0, 1, 0, 1, 1, 0, 0, 1, 0, 1, 1, 0, 1, 1, 1, 1, 0, 0, 0, 1, 0, 1, 1, 1, 0, 1, 1, 1, 0, 0, 0, 1, 0, 0, 1, 0, 0, 1, 0, 0, 1, 1, 0, 0, 0, 1, 1, 1, 1, 0, 1, 0, 1, 1, 1, 1, 0, 0]\n"
     ]
    },
    {
     "data": {
      "image/png": "[encoded data removed]",
      "text/plain": [
       "<Figure size 654.976x144.48 with 1 Axes>"
      ]
     },
     "execution_count": 5,
     "metadata": {},
     "output_type": "execute_result"
    }
   ],
   "source": [
    "# Eve intercepts all qubits from Alice, measures them with Z basis, and resends to Bob.\n",
    "\n",
    "simulator = Aer.get_backend('qasm_simulator')\n",
    "\n",
    "circ5 = QuantumCircuit(1,1)  # Z measure\n",
    "circ5.measure([0],[0])\n",
    "circ5.barrier(0)\n",
    "\n",
    "circ6 = QuantumCircuit(1,1)  # X measure\n",
    "circ6.h(0)\n",
    "circ6.measure([0],[0])\n",
    "circ6.barrier(0)\n",
    "\n",
    "circ7 = QuantumCircuit(1,1)  # Reset (|0>)\n",
    "circ7.reset(0)\n",
    "circ7.barrier(0)\n",
    "\n",
    "#circ7.draw(output='mpl')\n",
    "measure_circ = [circ5,circ6]\n",
    "\n",
    "\n",
    "def Eve_measure(measure_circuit,measure_results,resend_circuits):\n",
    "    measure_circuit = measure_circuit + circ5\n",
    "    job = execute(measure_circuit, simulator, shots=1)\n",
    "    result = job.result()\n",
    "    count = result.get_counts(measure_circuit)\n",
    "    value = int(list(count)[0])\n",
    "    measure_results.append(value)\n",
    "    if not value:\n",
    "        measure_circuit = measure_circuit + circ7 # |0>\n",
    "    else:\n",
    "        measure_circuit = measure_circuit + circ7 + circ1 # |1>\n",
    "    resend_circuits.append(measure_circuit)\n",
    "\n",
    "\n",
    "Eve_attack_circuits = []\n",
    "Eve_measurement_results = [] \n",
    "\n",
    "for i in range(2*(n+m)):\n",
    "    Eve_measure(Alice_step2_circuits[i],Eve_measurement_results,Eve_attack_circuits)\n",
    "    \n",
    "print(\"Eve_measurement_results : \",Eve_measurement_results)\n",
    "Eve_attack_circuits[0].draw(output='mpl')"
   ]
  },
  {
   "cell_type": "code",
   "execution_count": 6,
   "metadata": {},
   "outputs": [
    {
     "name": "stdout",
     "output_type": "stream",
     "text": [
      "Bob_measurement_results :  [0, 1, 1, 1, 1, 1, 0, 0, 1, 1, 0, 0, 0, 0, 1, 1, 1, 1, 0, 1, 0, 0, 0, 1, 0, 0, 0, 0, 0, 1, 1, 0, 0, 1, 1, 0, 1, 0, 0, 0, 1, 0, 1, 0, 0, 0, 0, 0, 1, 1, 0, 0, 0, 0, 1, 1, 0, 1, 1, 0, 0, 0, 1, 1, 1, 0, 1, 0, 1, 1, 0, 1, 0, 0, 1, 0, 1, 1, 1, 0]\n"
     ]
    },
    {
     "data": {
      "image/png": "[encoded data removed]",
      "text/plain": [
       "<Figure size 775.376x144.48 with 1 Axes>"
      ]
     },
     "execution_count": 6,
     "metadata": {},
     "output_type": "execute_result"
    }
   ],
   "source": [
    "# Step3 : for each qubit of QA Bob receives\n",
    "#         SA -> Z measure, resend |0> or |1> the same as measurement result\n",
    "#         SD -> reflect (no any operation or measurement)\n",
    "\n",
    "def measure_resend(measure_circuit,measure_results,resend_circuits):\n",
    "    measure_circuit = measure_circuit + circ5\n",
    "    job = execute(measure_circuit, simulator, shots=1)\n",
    "    result = job.result()\n",
    "    count = result.get_counts(measure_circuit)\n",
    "    value = int(list(count)[0])\n",
    "    measure_results.append(value)\n",
    "    if not value:\n",
    "        measure_circuit = measure_circuit + circ7\n",
    "    else:\n",
    "        measure_circuit = measure_circuit + circ7 + circ1\n",
    "    resend_circuits.append(measure_circuit)\n",
    "\n",
    "\n",
    "Bob_step3_circuits = [] # QA'\n",
    "Bob_measurement_results = [] # SK'||Hash(SK)'\n",
    "\n",
    "for i in range(n+m):\n",
    "    if not K1[i]: # SD SA\n",
    "        Bob_step3_circuits.append(Eve_attack_circuits[2*i])\n",
    "        measure_resend(Eve_attack_circuits[2*i+1],Bob_measurement_results,Bob_step3_circuits)\n",
    "    else: # SA SD\n",
    "        measure_resend(Eve_attack_circuits[2*i],Bob_measurement_results,Bob_step3_circuits)\n",
    "        Bob_step3_circuits.append(Eve_attack_circuits[2*i+1])\n",
    "\n",
    "\n",
    "print(\"Bob_measurement_results : \",Bob_measurement_results)\n",
    "index=0\n",
    "if not K1[0]: # SD SA\n",
    "    index=1\n",
    "Bob_step3_circuits[index].draw(output='mpl')"
   ]
  },
  {
   "cell_type": "code",
   "execution_count": 7,
   "metadata": {},
   "outputs": [
    {
     "name": "stdout",
     "output_type": "stream",
     "text": [
      "Alice_SA_measurement_result :  [0, 1, 1, 1, 1, 1, 0, 0, 1, 1, 0, 0, 0, 0, 1, 1, 1, 1, 0, 1, 0, 0, 0, 1, 0, 0, 0, 0, 0, 1, 1, 0, 0, 1, 1, 0, 1, 0, 0, 0, 1, 0, 1, 0, 0, 0, 0, 0, 1, 1, 0, 0, 0, 0, 1, 1, 0, 1, 1, 0, 0, 0, 1, 1, 1, 0, 1, 0, 1, 1, 0, 1, 0, 0, 1, 0, 1, 1, 1, 0]\n",
      "Alice_SD_measurement_result :  [1, 1, 1, 0, 1, 0, 0, 1, 0, 0, 1, 1, 0, 0, 0, 1, 0, 1, 1, 1, 1, 0, 0, 0, 1, 1, 0, 1, 0, 0, 1, 1, 1, 0, 1, 1, 0, 0, 1, 1, 1, 1, 0, 0, 0, 1, 0, 1, 1, 1, 1, 1, 1, 0, 1, 1, 0, 1, 1, 1, 1, 1, 1, 1, 0, 1, 0, 0, 0, 0, 0, 1, 1, 1, 1, 1, 0, 0, 0, 0]\n",
      "\n",
      "Alice's check for SA' is passed.\n",
      "error rate :  0.0 %\n",
      "Alice's check for SD' is not passed.\n",
      "error rate :  21.25 %\n",
      "\n",
      "Bob_measurement_results :  [0, 1, 1, 1, 1, 1, 0, 0, 1, 1, 0, 0, 0, 0, 1, 1, 1, 1, 0, 1, 0, 0, 0, 1, 0, 0, 0, 0, 0, 1, 1, 0, 0, 1, 1, 0, 1, 0, 0, 0, 1, 0, 1, 0, 0, 0, 0, 0, 1, 1, 0, 0, 0, 0, 1, 1, 0, 1, 1, 0, 0, 0, 1, 1, 1, 0, 1, 0, 1, 1, 0, 1, 0, 0, 1, 0, 1, 1, 1, 0]\n",
      "Bob_SK :  [0, 1, 1, 1, 1, 1, 0, 0, 1, 1, 0, 0, 0, 0, 1, 1, 1, 1, 0, 1, 0, 0, 0, 1, 0, 0, 0, 0, 0, 1, 1, 0, 0, 1, 1, 0, 1, 0, 0, 0, 1, 0, 1, 0, 0, 0, 0, 0, 1, 1]\n",
      "Bob_HashSK :  [0, 0, 0, 0, 1, 1, 0, 1, 1, 0, 0, 0, 1, 1, 1, 0, 1, 0, 1, 1, 0, 1, 0, 0, 1, 0, 1, 1, 1, 0]\n",
      "\n",
      "Bob_SK_hash_value :  [0, 0, 0, 0, 1, 1, 0, 1, 1, 0, 0, 0, 1, 1, 1, 0, 1, 0, 1, 1, 0, 1, 0, 0, 1, 0, 1, 1, 1, 0]\n",
      "\n",
      "Hash(SK') == Hash(SK)'. Bob's check is passed.\n",
      "error rate :  0.0 %\n"
     ]
    }
   ],
   "source": [
    "# Step4 : Alice receives QA'. Z measure SA', Z or X measure SD', and check.\n",
    "#         Bob checks Hash(SK') == Hash(SK)'.\n",
    "\n",
    "Alice_step4_SA_circuits = []\n",
    "Alice_SA_measurement_result = []\n",
    "\n",
    "Alice_step4_SD_circuits = []\n",
    "Alice_SD_measurement_result = []\n",
    "\n",
    "for i in range(n+m):\n",
    "    if not K1[i]: # SD' SA'\n",
    "        Alice_step4_SD_circuits.append(Bob_step3_circuits[2*i] + measure_circ[SD_basis[i]])\n",
    "        Alice_step4_SA_circuits.append(Bob_step3_circuits[2*i+1] + circ5)\n",
    "    else: # SA' SD'\n",
    "        Alice_step4_SA_circuits.append(Bob_step3_circuits[2*i] + circ5)\n",
    "        Alice_step4_SD_circuits.append(Bob_step3_circuits[2*i+1] + measure_circ[SD_basis[i]])\n",
    "\n",
    "\n",
    "def Alice_measure(measure_circuit,measure_results):\n",
    "    job = execute(measure_circuit, simulator, shots=1)\n",
    "    result = job.result()\n",
    "    count = result.get_counts(measure_circuit)\n",
    "    value = int(list(count)[0])\n",
    "    measure_results.append(value)\n",
    "\n",
    "    \n",
    "for i in range(n+m):\n",
    "    Alice_measure(Alice_step4_SA_circuits[i],Alice_SA_measurement_result)\n",
    "    \n",
    "for i in range(n+m):\n",
    "    Alice_measure(Alice_step4_SD_circuits[i],Alice_SD_measurement_result)\n",
    "\n",
    "print(\"Alice_SA_measurement_result : \",Alice_SA_measurement_result)\n",
    "print(\"Alice_SD_measurement_result : \",Alice_SD_measurement_result)\n",
    "print()\n",
    "\n",
    "\n",
    "def Check_result(list1,list2):\n",
    "    total_count = len(list1)\n",
    "    error_count = 0\n",
    "    for i in range(total_count):\n",
    "        if list1[i]!=list2[i]:\n",
    "            error_count += 1;\n",
    "    \n",
    "    error_rate = (error_count/total_count)*100\n",
    "    print(\"error rate : \",error_rate,\"%\")\n",
    "\n",
    "\n",
    "\n",
    "if Alice_SA_measurement_result==SA:\n",
    "    print(\"Alice's check for SA' is passed.\")\n",
    "else:\n",
    "    print(\"Alice's check for SA' is not passed.\")\n",
    "Check_result(Alice_SA_measurement_result,SA)\n",
    "\n",
    "\n",
    "if Alice_SD_measurement_result==SD:\n",
    "    print(\"Alice's check for SD' is passed.\")\n",
    "else:\n",
    "    print(\"Alice's check for SD' is not passed.\")\n",
    "Check_result(Alice_SD_measurement_result,SD)\n",
    "print()\n",
    "\n",
    "\n",
    "# Bob checks hash value\n",
    "print(\"Bob_measurement_results : \",Bob_measurement_results)\n",
    "\n",
    "Bob_SK=[]\n",
    "Bob_SK.extend(Bob_measurement_results[0:n])\n",
    "print(\"Bob_SK : \",Bob_SK)\n",
    "\n",
    "Bob_HashSK=[]\n",
    "Bob_HashSK.extend(Bob_measurement_results[-m:])\n",
    "print(\"Bob_HashSK : \",Bob_HashSK)\n",
    "print()\n",
    "\n",
    "Bob_SK_hash_value=[]\n",
    "Hash(Bob_SK,K2,Bob_SK_hash_value)\n",
    "print(\"Bob_SK_hash_value : \",Bob_SK_hash_value)\n",
    "print()\n",
    "\n",
    "if Bob_SK_hash_value==Bob_HashSK:\n",
    "    print(\"Hash(SK') == Hash(SK)'. Bob's check is passed.\")\n",
    "else:\n",
    "    print(\"Hash(SK') != Hash(SK)'. Bob's check is not passed.\")\n",
    "Check_result(Bob_SK_hash_value,Bob_HashSK)"
   ]
  },
  {
   "cell_type": "code",
   "execution_count": null,
   "metadata": {},
   "outputs": [],
   "source": []
  }
 ],
 "metadata": {
  "kernelspec": {
   "display_name": "Python 3",
   "language": "python",
   "name": "python3"
  },
  "language_info": {
   "codemirror_mode": {
    "name": "ipython",
    "version": 3
   },
   "file_extension": ".py",
   "mimetype": "text/x-python",
   "name": "python",
   "nbconvert_exporter": "python",
   "pygments_lexer": "ipython3",
   "version": "3.8.1"
  }
 },
 "nbformat": 4,
 "nbformat_minor": 4
}
